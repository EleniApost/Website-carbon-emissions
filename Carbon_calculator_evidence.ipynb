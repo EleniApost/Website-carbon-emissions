{
 "cells": [
  {
   "cell_type": "code",
   "execution_count": 4,
   "metadata": {},
   "outputs": [
    {
     "data": {
      "text/plain": [
       "['https://www.jisc.ac.uk/guides/understanding-music-licences',\n",
       " 'https://www.jisc.ac.uk']"
      ]
     },
     "execution_count": 4,
     "metadata": {},
     "output_type": "execute_result"
    }
   ],
   "source": [
    "from selenium import webdriver\n",
    "import time\n",
    "import re\n",
    "import os\n",
    "import pandas as pd\n",
    "from selenium.webdriver.chrome.options import Options\n",
    "from selenium.webdriver.common.by import By\n",
    "from selenium.webdriver.chrome.service import Service\n",
    "from selenium.webdriver.support.ui import WebDriverWait\n",
    "from selenium.webdriver.support import expected_conditions as EC\n",
    "options = Options()\n",
    "options.add_argument(\"start-maximized\")\n",
    "\n",
    "#page_list = ['https://www.jisc.ac.uk/blog/barriers-to-online-learning-must-be-removed-to-tackle-covid-19-crisis-27-apr-2020']\n",
    "\n",
    "data = pd.read_excel('jisc_traffic_known_org.xlsx') #import pages to enter into calculator\n",
    "\n",
    "unique = data['page'].unique() # get unique pages\n",
    "\n",
    "#Full page list from excel spreadsheet\n",
    "#page_list = []\n",
    "#for url in unique: # create url\n",
    "   # page_list.append('https://www.jisc.ac.uk'+url)\n",
    "\n",
    "# sample list to test code functionality \n",
    "page_list = ['https://www.jisc.ac.uk/guides/understanding-music-licences','https://www.jisc.ac.uk'] \n",
    "\n",
    "page_list[:5]\n",
    " \n",
    "\n",
    "   \n",
    "\n"
   ]
  },
  {
   "cell_type": "code",
   "execution_count": 8,
   "metadata": {},
   "outputs": [],
   "source": [
    "energy = []\n",
    "\n",
    "for page in page_list:\n",
    "    chromedriver_location = Service(\"C:/Users/eleni.apostolopoulou/chromedriver\")\n",
    "    op = webdriver.ChromeOptions()\n",
    "    driver = webdriver.Chrome(options=op, service = chromedriver_location)\n",
    "    driver.get('https://www.websitecarbon.com/') #goes to websitecarbon.com\n",
    "    #finds the section of the website to input url\n",
    "    website_input = '/html/body/div/main/section[1]/div/div[2]/form/div[1]/input'  \n",
    "\n",
    "    login_submit = '//*[@id=\"js-new-test-button\"]'\n",
    "    time.sleep(20) #waits then enters url and presses the submit button\n",
    "    WebDriverWait(driver, 40).until(EC.element_to_be_clickable((By.XPATH,website_input))).send_keys(page)\n",
    "    \n",
    "    #driver.find_element_by_xpath(password_input).send_keys(\"er\")\n",
    "    driver.find_element(By.XPATH,login_submit).click()\n",
    "    time.sleep(40)\n",
    "    # finds the element with the carbon emissions if it exists and enters it to a list called table with the respective url. \n",
    "    try:\n",
    "        energy.append([page, driver.find_elements(By.XPATH,'/html/body/div/main/article/div[2]/div[2]/p/span/span/span')\n",
    "                       [0].get_attribute('textContent')])  \n",
    "    except IndexError:\n",
    "        energy.append([page,'null'])"
   ]
  },
  {
   "cell_type": "code",
   "execution_count": 9,
   "metadata": {},
   "outputs": [
    {
     "name": "stdout",
     "output_type": "stream",
     "text": [
      "2\n"
     ]
    },
    {
     "data": {
      "text/html": [
       "<div>\n",
       "<style scoped>\n",
       "    .dataframe tbody tr th:only-of-type {\n",
       "        vertical-align: middle;\n",
       "    }\n",
       "\n",
       "    .dataframe tbody tr th {\n",
       "        vertical-align: top;\n",
       "    }\n",
       "\n",
       "    .dataframe thead th {\n",
       "        text-align: right;\n",
       "    }\n",
       "</style>\n",
       "<table border=\"1\" class=\"dataframe\">\n",
       "  <thead>\n",
       "    <tr style=\"text-align: right;\">\n",
       "      <th></th>\n",
       "      <th>page</th>\n",
       "      <th>carbon</th>\n",
       "    </tr>\n",
       "  </thead>\n",
       "  <tbody>\n",
       "    <tr>\n",
       "      <th>0</th>\n",
       "      <td>https://www.jisc.ac.uk/guides/understanding-mu...</td>\n",
       "      <td>0.68</td>\n",
       "    </tr>\n",
       "    <tr>\n",
       "      <th>1</th>\n",
       "      <td>https://www.jisc.ac.uk</td>\n",
       "      <td>1.54</td>\n",
       "    </tr>\n",
       "  </tbody>\n",
       "</table>\n",
       "</div>"
      ],
      "text/plain": [
       "                                                page carbon\n",
       "0  https://www.jisc.ac.uk/guides/understanding-mu...   0.68\n",
       "1                             https://www.jisc.ac.uk   1.54"
      ]
     },
     "execution_count": 9,
     "metadata": {},
     "output_type": "execute_result"
    }
   ],
   "source": [
    "print(len(energy))\n",
    "energy\n",
    "\n",
    "import pandas as pd\n",
    "df = pd.DataFrame(energy,columns = ['page', 'carbon'])\n",
    "df.to_excel(excel_writer ='page_carbon2.xlsx', sheet_name='sheet1') #Saving to a spreadsheet\n",
    "df.head()"
   ]
  },
  {
   "cell_type": "code",
   "execution_count": null,
   "metadata": {},
   "outputs": [],
   "source": []
  }
 ],
 "metadata": {
  "kernelspec": {
   "display_name": "Python 3",
   "language": "python",
   "name": "python3"
  },
  "language_info": {
   "codemirror_mode": {
    "name": "ipython",
    "version": 3
   },
   "file_extension": ".py",
   "mimetype": "text/x-python",
   "name": "python",
   "nbconvert_exporter": "python",
   "pygments_lexer": "ipython3",
   "version": "3.8.5"
  }
 },
 "nbformat": 4,
 "nbformat_minor": 4
}
